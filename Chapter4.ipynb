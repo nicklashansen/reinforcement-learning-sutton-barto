{
 "cells": [
  {
   "cell_type": "code",
   "execution_count": 118,
   "metadata": {},
   "outputs": [],
   "source": [
    "import numpy as np\n",
    "import matplotlib.pyplot as plt"
   ]
  },
  {
   "cell_type": "markdown",
   "metadata": {
    "collapsed": true
   },
   "source": [
    "### Exercise 4.9 (programming)\n",
    "\n",
    "Implement value iteration for the gambler’s problem and solve it for p_h = 0.25 and p_h = 0.55."
   ]
  },
  {
   "cell_type": "code",
   "execution_count": 119,
   "metadata": {},
   "outputs": [],
   "source": [
    "states_max = 100\n",
    "\n",
    "def value_iteration_for_gamblers(p_h, theta=0.0001, gamma=1.0):\n",
    "    \"\"\"\n",
    "    Args:\n",
    "        p_h: Probability of the coin coming up heads\n",
    "    \"\"\"\n",
    "    \n",
    "    def one_step_lookahead(s, V, rewards):\n",
    "        \"\"\"\n",
    "        Helper function to calculate the value for all action in a given state.\n",
    "        \n",
    "        Args:\n",
    "            s: The gambler’s capital. Integer.\n",
    "            V: The vector that contains values at each state. \n",
    "            rewards: The reward vector.\n",
    "                        \n",
    "        Returns:\n",
    "            A vector containing the expected value of each action. \n",
    "            Its length equals to the number of actions.\n",
    "        \"\"\"\n",
    "        \n",
    "        A = np.zeros(s)\n",
    "\n",
    "        # for each possible action\n",
    "        for a in range(1, s):\n",
    "            \n",
    "            win  = min(states_max, s+a)\n",
    "            loss = max(0, s-a)\n",
    "            \n",
    "            # compute  value\n",
    "            A[a] = p_h * (rewards[win] + gamma * V[win]) + (1 - p_h) * (rewards[loss] + gamma * V[loss])\n",
    "        \n",
    "        return A\n",
    "        \n",
    "\n",
    "    V = np.zeros(states_max+1)\n",
    "    rewards = np.zeros(states_max+1)\n",
    "    rewards[-1] = 1\n",
    "    B = np.zeros(states_max)\n",
    "    \n",
    "    # Loop for a large, finite number of iterations\n",
    "    for i in range(2**12):\n",
    "    \n",
    "        # Reinitialize delta\n",
    "        delta = 0\n",
    "    \n",
    "        # Loop over all states\n",
    "        for s in range(1, states_max):\n",
    "\n",
    "            # Compute best action value\n",
    "            A = one_step_lookahead(s, V, rewards)\n",
    "            v = np.max(A)\n",
    "            \n",
    "            # Save best action as policy for s\n",
    "            B[s] = np.argmax(A)\n",
    "            \n",
    "            # Get maximum change in iteration\n",
    "            delta = max(delta, abs(v - V[s]))\n",
    "            \n",
    "            # Update value function\n",
    "            V[s] = v\n",
    "\n",
    "        # If insufficient change, we have converged\n",
    "        if delta < theta:\n",
    "            print(f'Converged after {i} iterations using p_h = {p_h}.\\n')\n",
    "            break\n",
    "    \n",
    "    return B, V\n",
    "    #return policy, V"
   ]
  },
  {
   "cell_type": "code",
   "execution_count": 110,
   "metadata": {
    "scrolled": false
   },
   "outputs": [
    {
     "name": "stdout",
     "output_type": "stream",
     "text": [
      "Running...\n",
      "Converged after 6 iterations using p_h = 0.25.\n",
      "\n",
      "Optimized Policy:\n",
      "[  0.   0.   1.   2.   3.   4.   5.   6.   7.   8.   9.  10.  11.  12.  13.\n",
      "  14.  15.  16.  17.  18.  19.  20.  21.  22.  23.  24.  25.  26.  27.   3.\n",
      "  29.  30.  31.  32.  33.  34.  35.  36.  37.  38.  39.  40.  41.  42.  43.\n",
      "  44.  45.  46.  47.  48.  49.  49.  48.  47.  46.  45.  44.  43.  42.  41.\n",
      "  40.  39.  38.  37.  36.  35.  34.  33.  32.  31.  30.  29.  28.  27.  26.\n",
      "  25.  24.  23.  22.  21.  20.  19.  18.  17.  16.  15.  14.  13.  12.  11.\n",
      "  10.   9.   8.   7.   6.   5.   4.   3.   2.   1.]\n",
      "\n",
      "Optimized Value Function:\n",
      "[  0.00000000e+00   0.00000000e+00   6.10351562e-05   2.89916992e-04\n",
      "   7.44819641e-04   1.15966797e-03   1.78837776e-03   2.97927856e-03\n",
      "   4.08935547e-03   4.67300415e-03   5.67722321e-03   7.17885792e-03\n",
      "   9.09274817e-03   1.19171143e-02   1.57051086e-02   1.63574219e-02\n",
      "   1.70869827e-02   1.87187465e-02   2.03933486e-02   2.27088928e-02\n",
      "   2.74810791e-02   2.87377092e-02   3.12662125e-02   3.63709927e-02\n",
      "   3.96584154e-02   4.76684570e-02   6.25000000e-02   6.28204346e-02\n",
      "   6.35644794e-02   6.54296875e-02   6.63222491e-02   6.83624148e-02\n",
      "   7.42187500e-02   7.49345624e-02   7.69197345e-02   8.15759722e-02\n",
      "   8.49647522e-02   9.08500552e-02   1.01741096e-01   1.09950066e-01\n",
      "   1.11777857e-01   1.14950837e-01   1.19812012e-01   1.25090197e-01\n",
      "   1.33711755e-01   1.45483971e-01   1.51233789e-01   1.58633662e-01\n",
      "   1.73072234e-01   1.90718015e-01   2.09285846e-01   2.50045776e-01\n",
      "   2.50558615e-01   2.51341283e-01   2.53067017e-01   2.54257917e-01\n",
      "   2.56819561e-01   2.61778831e-01   2.62815237e-01   2.65295011e-01\n",
      "   2.70610809e-01   2.73449659e-01   2.79743812e-01   2.96875000e-01\n",
      "   2.97673360e-01   2.99741687e-01   3.05664062e-01   3.07689801e-01\n",
      "   3.13723564e-01   3.26305822e-01   3.33833393e-01   3.39859009e-01\n",
      "   3.50283816e-01   3.63425341e-01   3.79804175e-01   4.06964385e-01\n",
      "   4.37918961e-01   4.39800262e-01   4.42614671e-01   4.47111428e-01\n",
      "   4.52958107e-01   4.59807859e-01   4.73255020e-01   4.79248047e-01\n",
      "   4.85292673e-01   5.00375045e-01   5.12712862e-01   5.34853132e-01\n",
      "   5.78439221e-01   5.81961003e-01   5.89718580e-01   6.04941265e-01\n",
      "   6.13969505e-01   6.34534647e-01   6.83829416e-01   6.92288935e-01\n",
      "   7.10477129e-01   7.62872062e-01   7.82857846e-01   8.37143385e-01\n",
      "   0.00000000e+00]\n",
      "\n",
      "Running...\n",
      "Converged after 508 iterations using p_h = 0.55.\n",
      "\n",
      "Optimized Policy:\n",
      "[ 0.  0.  1.  1.  1.  1.  1.  1.  1.  1.  1.  1.  1.  1.  1.  1.  1.  1.\n",
      "  1.  1.  1.  1.  1.  1.  1.  1.  1.  1.  1.  1.  1.  1.  1.  1.  1.  1.\n",
      "  1.  1.  1.  1.  1.  1.  1.  1.  1.  1.  1.  1.  1.  1.  1.  1.  1.  1.\n",
      "  1.  1.  1.  1.  1.  1.  1.  1.  1.  1.  1.  1.  1.  1.  1.  1.  1.  1.\n",
      "  1.  1.  1.  1.  1.  1.  1.  1.  1.  1.  1.  1.  1.  1.  1.  1.  1.  1.\n",
      "  1.  1.  1.  1.  1.  1.  1.  1.  1.  1.]\n",
      "\n",
      "Optimized Value Function:\n",
      "[ 0.          0.          0.17908897  0.32566168  0.44564614  0.54388899\n",
      "  0.62435269  0.6902767   0.74430941  0.78861593  0.82496629  0.85480748\n",
      "  0.87932246  0.89947831  0.91606566  0.92973091  0.94100253  0.95031266\n",
      "  0.95801465  0.96439746  0.96969744  0.97410793  0.97778713  0.98086448\n",
      "  0.98344598  0.98561839  0.98745282  0.98900753  0.9903303   0.99146035\n",
      "  0.99242988  0.99326534  0.99398853  0.99461738  0.99516668  0.99564865\n",
      "  0.99607342  0.99644938  0.99678349  0.99708157  0.99734847  0.99758825\n",
      "  0.99780435  0.99799965  0.99817659  0.99833727  0.99848346  0.9986167\n",
      "  0.99873831  0.99884943  0.99895108  0.99904413  0.99912935  0.99920744\n",
      "  0.99927901  0.9993446   0.99940472  0.99945981  0.99951026  0.99955646\n",
      "  0.99959875  0.99963741  0.99967275  0.99970503  0.99973447  0.99976132\n",
      "  0.99978576  0.99980799  0.9998282   0.99984653  0.99986316  0.9998782\n",
      "  0.9998918   0.99990408  0.99991514  0.9999251   0.99993405  0.99994207\n",
      "  0.99994926  0.99995568  0.9999614   0.9999665   0.99997103  0.99997505\n",
      "  0.9999786   0.99998173  0.99998449  0.9999869   0.99998902  0.99999087\n",
      "  0.99999247  0.99999386  0.99999506  0.99999609  0.99999697  0.99999772\n",
      "  0.99999835  0.99999889  0.99999933  0.9999997   0.        ]\n",
      "\n"
     ]
    },
    {
     "data": {
      "image/png": "[encoded data removed]",
      "text/plain": [
       "<Figure size 432x288 with 1 Axes>"
      ]
     },
     "metadata": {
      "needs_background": "light"
     },
     "output_type": "display_data"
    }
   ],
   "source": [
    "def run(p_h = 0.25):\n",
    "    print('Running...')\n",
    "    \n",
    "    policy, v = value_iteration_for_gamblers(p_h)\n",
    "    print(f'Optimized Policy:\\n{policy}\\n\\nOptimized Value Function:\\n{v}\\n')\n",
    "    \n",
    "    plt.plot(range(states_max), v[:100])\n",
    "    plt.title(f'Converged solutions for p_h = 0.25 (blue) and p_h = 0.55 (orange)')\n",
    "    plt.xlabel('State')\n",
    "    plt.ylabel('Estimated value')\n",
    "\n",
    "run()\n",
    "run(0.55)"
   ]
  },
  {
   "cell_type": "code",
   "execution_count": 117,
   "metadata": {},
   "outputs": [
    {
     "name": "stdout",
     "output_type": "stream",
     "text": [
      "Converged after 6 iterations using p_h = 0.25.\n",
      "\n",
      "Converged after 508 iterations using p_h = 0.55.\n",
      "\n"
     ]
    },
    {
     "data": {
      "image/png": "[encoded data removed]",
      "text/plain": [
       "<Figure size 432x288 with 1 Axes>"
      ]
     },
     "metadata": {
      "needs_background": "light"
     },
     "output_type": "display_data"
    }
   ],
   "source": [
    "def run2(p_h = 0.25):\n",
    "    \n",
    "    policy, v = value_iteration_for_gamblers(p_h)\n",
    "    \n",
    "    plt.bar(range(100), policy)\n",
    "    plt.title('Converged solutions for p_h = 0.25 (blue) and p_h = 0.55 (orange)')\n",
    "    plt.xlabel('Sate')\n",
    "    plt.ylabel('Policy')\n",
    "\n",
    "\n",
    "run2()\n",
    "run2(p_h=0.55)"
   ]
  },
  {
   "cell_type": "code",
   "execution_count": null,
   "metadata": {},
   "outputs": [],
   "source": []
  }
 ],
 "metadata": {
  "kernelspec": {
   "display_name": "Python 3",
   "language": "python",
   "name": "python3"
  },
  "language_info": {
   "codemirror_mode": {
    "name": "ipython",
    "version": 3
   },
   "file_extension": ".py",
   "mimetype": "text/x-python",
   "name": "python",
   "nbconvert_exporter": "python",
   "pygments_lexer": "ipython3",
   "version": "3.6.6"
  }
 },
 "nbformat": 4,
 "nbformat_minor": 1
}
